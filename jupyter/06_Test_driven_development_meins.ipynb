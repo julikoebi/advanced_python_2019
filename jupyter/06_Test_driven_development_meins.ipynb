{
 "cells": [
  {
   "cell_type": "markdown",
   "metadata": {
    "slideshow": {
     "slide_type": "slide"
    }
   },
   "source": [
    "# Advanced Python Course \n",
    "## Mobi Heidelberg 2019\n",
    "### by Christian Fufezan \n",
    "\n",
    "christian@fufezan.net\n",
    "\n",
    "https://fufezan.net\n",
    "\n",
    "<img src=\"./imgs/cc.png\" alt=\"drawing\" width=\"200\" style=\"float: left;\"/>\n"
   ]
  },
  {
   "cell_type": "markdown",
   "metadata": {
    "slideshow": {
     "slide_type": "slide"
    }
   },
   "source": [
    "In order to do so, we need to \n",
    "* switch to terminal and activate our virtualenv\n",
    "* fork the advanced_python_repo (so you can commit you code to your repo)\n",
    "* prepare some folders in your repo using this ..."
   ]
  },
  {
   "cell_type": "code",
   "execution_count": 1,
   "metadata": {
    "slideshow": {
     "slide_type": "subslide"
    }
   },
   "outputs": [
    {
     "name": "stdout",
     "output_type": "stream",
     "text": [
      "mkdir: ../playground: File exists\n",
      "mkdir: ../tests: File exists\n",
      "mkdir: ../docs: File exists\n"
     ]
    }
   ],
   "source": [
    "!mkdir ../playground\n",
    "!mkdir ../tests\n",
    "!mkdir ../docs"
   ]
  },
  {
   "cell_type": "markdown",
   "metadata": {
    "slideshow": {
     "slide_type": "subslide"
    }
   },
   "source": [
    "You should have a dir structure like this:\n",
    "\n",
    "    .\n",
    "    ├── README.md\n",
    "    ├── data\n",
    "    │   ├── amino_acid_properties.csv\n",
    "    │   └── test.csv\n",
    "    ├── docs   # will hold the documentation\n",
    "    ├── jupyter\n",
    "    │   ├── 00_Intro.ipynb\n",
    "    │   ├── ...\n",
    "    ├── playground  # is our python package\n",
    "    ├── requirements.txt\n",
    "    └── tests  # will contain our tests"
   ]
  },
  {
   "cell_type": "markdown",
   "metadata": {
    "slideshow": {
     "slide_type": "slide"
    }
   },
   "source": [
    "# Test Driven Development\n",
    "\n",
    "## You all are already do some part of test driven development!\n",
    "\n",
    "<img style=\"right\" src=\"./imgs/ttd_already.jpg\">"
   ]
  },
  {
   "cell_type": "markdown",
   "metadata": {
    "slideshow": {
     "slide_type": "slide"
    }
   },
   "source": [
    "# TTD \n",
    "Test driven development comes in three blocks.\n",
    "<img style=\"right\" src=\"./imgs/ttd_explained.png\" width=700>\n",
    "a) you start thinking about what you want to code, write a test that will fail and then start writing the code to make the test pass. At this stage you have a working prototype and leave the first block (blue dotted line)\n",
    "\n",
    "b) you will write more tests coverig forseeable corner cases. If the test fail you adjust your code. After the tests pass you will leave the second block behing having a real product with test. \n",
    "\n",
    "c) Finally you start refactoring your code into the bigger picture. The tests will give you confidence that nothing breaks while you refactor. This step becomes essential when you tackle a similar problem or consolidate fuctionality in your core package. At this stage you leave the third block. "
   ]
  },
  {
   "cell_type": "markdown",
   "metadata": {
    "slideshow": {
     "slide_type": "subslide"
    }
   },
   "source": [
    "Advantages are\n",
    "* think before coding\n",
    "* you will write tests before actually start coding on the solution (ie you will have tests at the end of the dev phase)\n",
    "* Forces you to write smaller functions that so TDD enforces the Zen of Python and general* coding philosophy\n",
    "    * Explicit is better than implicit.\n",
    "    * Simple is better than complex.\n",
    "    * Complex is better than complicated.\n",
    "    * a function should do one thing and one thing only\n",
    "\n"
   ]
  },
  {
   "cell_type": "code",
   "execution_count": 2,
   "metadata": {
    "slideshow": {
     "slide_type": "slide"
    }
   },
   "outputs": [
    {
     "name": "stdout",
     "output_type": "stream",
     "text": [
      "Overwriting ../playground/__init__.py\n"
     ]
    }
   ],
   "source": [
    "%%writefile ../playground/__init__.py     \n",
    "# __init__ py is required in a folder \n",
    "# to be recognized as a python module\n",
    "# otherwise the import statements won't work\n",
    "\n",
    "# lets load core into the name space as well\n",
    "from . import core"
   ]
  },
  {
   "cell_type": "markdown",
   "metadata": {
    "slideshow": {
     "slide_type": "slide"
    }
   },
   "source": [
    "# Workbench"
   ]
  },
  {
   "cell_type": "code",
   "execution_count": 3,
   "metadata": {
    "slideshow": {
     "slide_type": "subslide"
    }
   },
   "outputs": [
    {
     "name": "stdout",
     "output_type": "stream",
     "text": [
      "Overwriting ../tests/test_core.py\n"
     ]
    }
   ],
   "source": [
    "%%writefile ../tests/test_core.py\n",
    "\n",
    "# Importieren ohne es zu installieren \n",
    "import pytest\n",
    "import sys, os\n",
    "# This block is not neccessary if you instaled your package\n",
    "# using e.g. pip install -e\n",
    "sys.path.append(\n",
    "    os.path.abspath(\n",
    "        os.path.join(\n",
    "            os.path.dirname(__file__), # location of this file\n",
    "            os.pardir, # and one level up, in linux ../\n",
    "        )\n",
    "    )\n",
    ")\n",
    "# EOBlock\n",
    "\n",
    "import playground\n",
    "\n",
    "\n",
    "# Eigentlicher Test\n",
    "\n",
    "def test_find_peaks():\n",
    "    peaks = playground.core.find_peaks([0, 2, 1])\n",
    "    assert peaks == [2]  \n",
    "\n",
    "def test_find_two_peaks():\n",
    "    peaks = playground.core.find_peaks([0, 2, 1, 0, 2, 1])\n",
    "    assert peaks == [2, 2] \n",
    "\n",
    "def test_find_peaks_max_edge():\n",
    "    peaks = playground.core.find_peaks([2, 1, 1])\n",
    "    assert peaks == [] \n",
    "    \n",
    "def test_find_peaks_empty_list():\n",
    "    peaks = playground.core.find_peaks([])\n",
    "    assert peaks == []  \n",
    "    \n",
    "def test_find_lowest_tupel():\n",
    "    lows = playground.core.find_lows([(20, 0, 0), (0, 0, 5), (10, 0, 11), (0, 19, 0), (22, 3, 0)])\n",
    "    assert lows == [(0, 0, 5), (0, 19, 0)]  "
   ]
  },
  {
   "cell_type": "code",
   "execution_count": 4,
   "metadata": {
    "slideshow": {
     "slide_type": "subslide"
    }
   },
   "outputs": [
    {
     "name": "stdout",
     "output_type": "stream",
     "text": [
      "Overwriting ../playground/core.py\n"
     ]
    }
   ],
   "source": [
    "%%writefile ../playground/core.py\n",
    "\n",
    "def find_peaks(list_of_intensities):\n",
    "    \"\"\"Find peaks\n",
    "\n",
    "    Find local maxima for a given list of intensities. \n",
    "    Intensities are defined as local maxima if the \n",
    "    intensities of the elements in the list before and after \n",
    "    are smaller than the peak we want to determine.\n",
    "\n",
    "    Args:\n",
    "        list_of_intensities (list of floats or ints): a list of\n",
    "            numeric values\n",
    "\n",
    "    Returns:\n",
    "        list of floats: list of the identified local maxima\n",
    "\n",
    "    Note:\n",
    "        This is just a place holder for the TDD part :)\n",
    "    \"\"\"\n",
    "    max_value = 0\n",
    "    list_of_maxima = []\n",
    "    for pos, element in enumerate(list_of_intensities):\n",
    "        if pos == 0:\n",
    "            continue\n",
    "        if pos == len(list_of_intensities) - 1:\n",
    "            continue\n",
    "        if list_of_intensities[pos - 1] < element > list_of_intensities[pos + 1]:\n",
    "            max_value = element\n",
    "            list_of_maxima.append(max_value)\n",
    "    return list_of_maxima\n",
    "\n",
    "\n",
    "def find_lows(list_of_colors):\n",
    "    \"\"\"Find lows\n",
    "\n",
    "    Find local minima for a given list of tupels of intensities. \n",
    "    Tupels of Intensities are defined as local minima if the \n",
    "    intensities of the elements in the tupel before and after \n",
    "    are smaller than the peak we want to determine.\n",
    "\n",
    "    Args:\n",
    "        list_of_intensities (list of floats or ints): a list of\n",
    "            numeric values\n",
    "\n",
    "    Returns:\n",
    "        list of floats: list of the identified local maxima\n",
    "\n",
    "    Note:\n",
    "        This is just a place holder for the TDD part :)\n",
    "    \"\"\"\n",
    "    list_of_sums = []\n",
    "    for tupel in list_of_colors:\n",
    "        summed_up = 0\n",
    "        for element in tupel:\n",
    "            summed_up += element\n",
    "        list_of_sums.append(summed_up)\n",
    "\n",
    "    min_value = 0\n",
    "    list_of_minima = []\n",
    "    for pos, element in enumerate(list_of_sums):\n",
    "        if pos == 0:\n",
    "            continue\n",
    "        if pos == len(list_of_sums) - 1:\n",
    "             continue\n",
    "        if list_of_sums[pos - 1] > element < list_of_sums[pos + 1]:\n",
    "            min_pos = pos\n",
    "            minima = list_of_colors[min_pos]\n",
    "            list_of_minima.append(minima)\n",
    "    \n",
    "    return list_of_minima"
   ]
  },
  {
   "cell_type": "code",
   "execution_count": 5,
   "metadata": {},
   "outputs": [
    {
     "name": "stdout",
     "output_type": "stream",
     "text": [
      "\u001b[1m============================= test session starts ==============================\u001b[0m\n",
      "platform darwin -- Python 3.6.5, pytest-3.5.1, py-1.5.3, pluggy-0.6.0\n",
      "rootdir: /Users/juliakoberle/Desktop/Bioinfo/advanced_python_2019, inifile:\n",
      "plugins: remotedata-0.2.1, openfiles-0.3.0, doctestplus-0.1.3, arraydiff-0.2\n",
      "collected 5 items                                                              \u001b[0m\u001b[1m\n",
      "\n",
      "tests/test_core.py .....\u001b[36m                                                 [100%]\u001b[0m\n",
      "\n",
      "\u001b[32m\u001b[1m=========================== 5 passed in 0.02 seconds ===========================\u001b[0m\n"
     ]
    }
   ],
   "source": [
    "!cd ../;pytest tests/test_core.py"
   ]
  },
  {
   "cell_type": "markdown",
   "metadata": {
    "slideshow": {
     "slide_type": "slide"
    }
   },
   "source": [
    "# Now let's go into the first (second) iterations\n",
    "## on the path to our first product\n",
    "\n",
    "<img style=\"right\" src=\"./imgs/ttd_explained.png\" width=800>"
   ]
  },
  {
   "cell_type": "markdown",
   "metadata": {
    "slideshow": {
     "slide_type": "slide"
    }
   },
   "source": [
    "# Now let's make it brilliant\n",
    "\n",
    "Let's say we are happy with our *product* and got \"rich\". \n",
    "\n",
    "Now why do we need to refactor?\n",
    "\n",
    "* Not to have our code exist in \"playground\" but move it into our *work horse* package\n",
    "* The moment the definition of list_of_intensities is altered, in which case we would \n",
    "    * restart the TDD process at the start  \n",
    "    * remember that both function do something similar and merge their code"
   ]
  },
  {
   "cell_type": "markdown",
   "metadata": {
    "slideshow": {
     "slide_type": "slide"
    }
   },
   "source": [
    "# Lets go into the third iteration\n",
    "\n",
    "## case find_peaks in a vector filled with colors\n",
    "\n",
    "Colors are defined as (e.g.) red-green-blue (RGB) tuples. So (0, 0, 0) is black and (255, 255, 255) is white.\n",
    "\n",
    "<img src=\"https://www.alanzucconi.com/wp-content/uploads/2015/09/colours.png\">\n",
    "\n",
    "And let's not go too deep into the beautiful world of [sorting colors by Alan Zucconi](https://www.alanzucconi.com/2015/09/30/colour-sorting/) and let's just say\n",
    "(20,0,0) > (0,19,0) so we sum-up the values in the tuples and feed it into our function, but this time we look for dark spots, that we want to identify as \"peaks\".\n",
    "\n",
    "### What could refactoring look like ?"
   ]
  },
  {
   "cell_type": "markdown",
   "metadata": {
    "slideshow": {
     "slide_type": "slide"
    }
   },
   "source": [
    "# Let's add some auto documentation to our playground\n",
    "\n",
    "## Auto documentation using Sphinx!\n",
    "\n",
    "\"Sphinx is a tool that makes it easy to create intelligent and beautiful documentation, written by Georg Brandl and licensed under the BSD license.\n",
    "\n",
    "It was originally created for the Python documentation, and it has excellent facilities for the documentation of software projects in a range of languages. Of course, this site is also created from reStructuredText sources using Sphinx! The following features should be highlighted:\"\n",
    "\n",
    "[Website](http://www.sphinx-doc.org/en/master/)"
   ]
  },
  {
   "cell_type": "markdown",
   "metadata": {
    "slideshow": {
     "slide_type": "subslide"
    }
   },
   "source": [
    "Quickstart, open terminal and\n",
    "``` bash\n",
    "$ cd docs\n",
    "```\n",
    "\n",
    "**NOTE:** Personally, I do not like the docs to clutter my project dir with different files but to have everything contained in the docs folder\n",
    "\n",
    "``` bash\n",
    "$ sphinx-quickstart                                                                \n",
    "Welcome to the Sphinx 2.2.0 quickstart utility.\n",
    "\n",
    "Please enter values for the following settings (just press Enter to\n",
    "accept a default value, if one is given in brackets).\n",
    "\n",
    "Selected root path: .\n",
    "\n",
    "You have two options for placing the build directory for Sphinx output.\n",
    "Either, you use a directory \"_build\" within the root path, or you separate\n",
    "\"source\" and \"build\" directories within the root path.\n",
    "> Separate source and build directories (y/n) [n]: y\n",
    "\n",
    "The project name will occur in several places in the built documentation.\n",
    "> Project name: playground\n",
    "> Author name(s): Christian Fufezan\n",
    "> Project release []: \n",
    "\n",
    "If the documents are to be written in a language other than English,\n",
    "you can select a language here by its language code. Sphinx will then\n",
    "translate text that it generates into that language.\n",
    "\n",
    "For a list of supported codes, see\n",
    "https://www.sphinx-doc.org/en/master/usage/configuration.html#confval-language.\n",
    "> Project language [en]: \n",
    "\n",
    "Creating file ./source/conf.py.\n",
    "Creating file ./source/index.rst.\n",
    "Creating file ./Makefile.\n",
    "Creating file ./make.bat.\n",
    "\n",
    "Finished: An initial directory structure has been created.\n",
    "\n",
    "You should now populate your master file ./source/index.rst and create other documentation\n",
    "source files. Use the Makefile to build the docs, like so:\n",
    "   make builder\n",
    "where \"builder\" is one of the supported builders, e.g. html, latex or linkcheck.\n",
    "\n",
    "```"
   ]
  },
  {
   "cell_type": "markdown",
   "metadata": {
    "slideshow": {
     "slide_type": "subslide"
    }
   },
   "source": [
    "Now let's make the first documentation\n",
    "```bash\n",
    "make html\n",
    "open build/html/index.html\n",
    "```"
   ]
  },
  {
   "cell_type": "markdown",
   "metadata": {
    "slideshow": {
     "slide_type": "subslide"
    }
   },
   "source": [
    "Sphinx does not know anything about our poject yet so we have to edit\n",
    "**docs/source/conf.py** you will find \n",
    "``` python\n",
    "# If extensions (or modules to document with autodoc) are in another directory,\n",
    "# add these directories to sys.path here. If the directory is relative to the\n",
    "# documentation root, use os.path.abspath to make it absolute, like shown here.\n",
    "#\n",
    "# import os\n",
    "# import sys\n",
    "# sys.path.insert(0, os.path.abspath('.'))\n",
    "``` \n",
    "that block in the beginning of the conf file, uncomment it and edit the sys.path so the module can be found\n",
    "``` python\n",
    "dir_path = os.path.join(\n",
    "    os.path.dirname(__file__),\n",
    "    os.pardir,\n",
    "    os.pardir,\n",
    ")\n",
    "sys.path.insert(0, os.path.abspath(dir_path))\n",
    "```"
   ]
  },
  {
   "cell_type": "markdown",
   "metadata": {
    "slideshow": {
     "slide_type": "subslide"
    }
   },
   "source": [
    "Additionally, let's make sphinx understand google and numpy docstring! Edit\n",
    "**docs/source/conf.py** again and add the napoleon extention to the extentions \n",
    "``` python\n",
    "extensions = [\n",
    "    'sphinx.ext.napoleon',\n",
    "]\n",
    "```"
   ]
  },
  {
   "cell_type": "markdown",
   "metadata": {
    "slideshow": {
     "slide_type": "subslide"
    }
   },
   "source": [
    "Wonder what so special about google's docstring ?\n",
    "\n",
    "*Regular*\n",
    "``` \n",
    ":param path: The path of the file to wrap\n",
    ":type path: str\n",
    ":param field_storage: The :class:`FileStorage` instance to wrap\n",
    ":type field_storage: FileStorage\n",
    ":param temporary: Whether or not to delete the file when the File\n",
    "   instance is destructed\n",
    ":type temporary: bool\n",
    ":returns: A buffered writable file descriptor\n",
    ":rtype: BufferedFileStorage\n",
    "```\n",
    "\n",
    "*Google python style*\n",
    "```\n",
    "Args:\n",
    "    path (str): The path of the file to wrap\n",
    "    field_storage (FileStorage): The :class:`FileStorage` instance to wrap\n",
    "    temporary (bool): Whether or not to delete the file when the File\n",
    "       instance is destructed\n",
    "\n",
    "Returns:\n",
    "    BufferedFileStorage: A buffered writable file descriptor\n",
    "```\n",
    "\n",
    "For more details, see [here](https://www.sphinx-doc.org/en/1.5/ext/example_google.html)"
   ]
  },
  {
   "cell_type": "markdown",
   "metadata": {
    "slideshow": {
     "slide_type": "subslide"
    }
   },
   "source": [
    "So now let's build again!\n",
    "```bash\n",
    "make html\n",
    "```\n",
    "\n"
   ]
  },
  {
   "cell_type": "code",
   "execution_count": 8,
   "metadata": {
    "slideshow": {
     "slide_type": "subslide"
    }
   },
   "outputs": [
    {
     "name": "stdout",
     "output_type": "stream",
     "text": [
      "make: *** No rule to make target `html'.  Stop.\r\n"
     ]
    }
   ],
   "source": [
    "!cd ../docs/;make html"
   ]
  },
  {
   "cell_type": "markdown",
   "metadata": {
    "slideshow": {
     "slide_type": "subslide"
    }
   },
   "source": [
    "Nothing to see because we have not added our module yet!\n",
    "\n",
    "Let's edit docs/source/index.rst"
   ]
  },
  {
   "cell_type": "markdown",
   "metadata": {
    "slideshow": {
     "slide_type": "subslide"
    }
   },
   "source": [
    "```\n",
    ".. playground documentation master file, created by\n",
    "   sphinx-quickstart on Sun Oct 13 15:39:43 2019.\n",
    "   You can adapt this file completely to your liking, but it should at least\n",
    "   contain the root `toctree` directive.\n",
    "\n",
    "Welcome to playground's documentation!\n",
    "=========================================\n",
    "\n",
    ".. toctree::\n",
    "   :maxdepth: 2\n",
    "   :caption: Contents:\n",
    "\n",
    "   core\n",
    "\n",
    "\n",
    "Indices and tables\n",
    "==================\n",
    "\n",
    "* :ref:`genindex`\n",
    "* :ref:`modindex`\n",
    "* :ref:`search`\n",
    "```\n",
    "\n",
    "**I added core to the toctree!**\n",
    "\n"
   ]
  },
  {
   "cell_type": "markdown",
   "metadata": {
    "slideshow": {
     "slide_type": "subslide"
    }
   },
   "source": [
    "and **docs/source/core.rst** looks like:\n",
    "```\n",
    ".. _core.rst:\n",
    "\n",
    "Core module\n",
    "===========\n",
    "\n",
    ".. automodule:: playground.core\n",
    "    :members:\n",
    "    :undoc-members:\n",
    "```\n",
    "\n",
    "This is sufficient to have all functions in this module to be parsed and included in this documentation.\n",
    "\n",
    "The *:undoc-members:* helps to find all functions, even the ones that have no documentation.\n",
    "\n",
    "\n"
   ]
  },
  {
   "cell_type": "markdown",
   "metadata": {
    "slideshow": {
     "slide_type": "subslide"
    }
   },
   "source": [
    "Now rerun the documentation building procedure\n",
    "``` bash\n",
    "make html\n",
    "```"
   ]
  },
  {
   "cell_type": "code",
   "execution_count": null,
   "metadata": {},
   "outputs": [],
   "source": [
    "!cd ../docs;make html;open ../docs/build/html/index.html"
   ]
  },
  {
   "cell_type": "markdown",
   "metadata": {
    "slideshow": {
     "slide_type": "slide"
    }
   },
   "source": [
    "# Now let's integrate (CI) our \n",
    "## auto doc generation \n",
    "## auto tests\n",
    "# into a continous integration effort (CI)\n",
    "\n"
   ]
  },
  {
   "cell_type": "markdown",
   "metadata": {},
   "source": [
    "# AutoDocs first\n",
    "go to [ReadTheDocs.org](https://readthedocs.org) and sign in using your *github* account as option.\n",
    "\n",
    "Then you should see your advanced_python_2019_EBI repo.\n",
    "\n",
    "Add it as a project, have a look at the docu and what happend to github repo. We should see that ReadTheDoc has added a webhook to your repo so now, everytime you change something the repo, a new docu will be build on the fly."
   ]
  },
  {
   "cell_type": "markdown",
   "metadata": {},
   "source": []
  },
  {
   "cell_type": "code",
   "execution_count": null,
   "metadata": {},
   "outputs": [],
   "source": []
  }
 ],
 "metadata": {
  "celltoolbar": "Slideshow",
  "kernelspec": {
   "display_name": "Python 3",
   "language": "python",
   "name": "python3"
  },
  "language_info": {
   "codemirror_mode": {
    "name": "ipython",
    "version": 3
   },
   "file_extension": ".py",
   "mimetype": "text/x-python",
   "name": "python",
   "nbconvert_exporter": "python",
   "pygments_lexer": "ipython3",
   "version": "3.6.5"
  }
 },
 "nbformat": 4,
 "nbformat_minor": 2
}
